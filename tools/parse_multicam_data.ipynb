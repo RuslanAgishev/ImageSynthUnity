{
 "cells": [
  {
   "cell_type": "code",
   "execution_count": 1,
   "metadata": {},
   "outputs": [],
   "source": [
    "import json\n",
    "import numpy as np\n",
    "import matplotlib.pyplot as plt"
   ]
  },
  {
   "cell_type": "code",
   "execution_count": 2,
   "metadata": {},
   "outputs": [
    {
     "name": "stdout",
     "output_type": "stream",
     "text": [
      "'../dataset/multicam/odometry_Car1(Clone)-(-335458).json'\r\n",
      "'../dataset/multicam/odometry_Car1(Clone)-(-346378).json'\r\n"
     ]
    }
   ],
   "source": [
    "ls ../dataset/multicam/odometry*"
   ]
  },
  {
   "cell_type": "code",
   "execution_count": 3,
   "metadata": {},
   "outputs": [
    {
     "name": "stdout",
     "output_type": "stream",
     "text": [
      "'../dataset/multicam/detections_Car1(Clone)-(-335458).json'\r\n",
      "'../dataset/multicam/detections_Car1(Clone)-(-346378).json'\r\n"
     ]
    }
   ],
   "source": [
    "ls ../dataset/multicam/detections*"
   ]
  },
  {
   "cell_type": "code",
   "execution_count": 4,
   "metadata": {},
   "outputs": [],
   "source": [
    "odom_file_paths = [\n",
    "    '../dataset/multicam/odometry_Car1(Clone)-(-335458).json',\n",
    "    '../dataset/multicam/odometry_Car1(Clone)-(-346378).json'\n",
    "]\n",
    "\n",
    "dets_file_paths = [\n",
    "    '../dataset/multicam/detections_Car1(Clone)-(-335458).json',\n",
    "    '../dataset/multicam/detections_Car1(Clone)-(-346378).json'\n",
    "]"
   ]
  },
  {
   "cell_type": "code",
   "execution_count": 5,
   "metadata": {},
   "outputs": [],
   "source": [
    "class DynamicObject:\n",
    "    def __init__(self):\n",
    "        self.name = \"\"\n",
    "        self.odom = None # odometry data\n",
    "        self.poses = [[0], [0], [0]] # [X, Y, Z]\n",
    "        self.vels = [[0], [0], [0]] # [Vx, Vy, Vz]\n",
    "        \n",
    "        self.dets = None # detections data\n",
    "        \n",
    "    def parse_odom(self):\n",
    "        X = []; Y = []; Z = []\n",
    "        Vx = []; Vy = []; Vz = []\n",
    "        for i in range(len(self.odom)):\n",
    "            x = float(self.odom[i]['pose_m'].split(',')[0][1:]);  X.append(x)\n",
    "            y = float(self.odom[i]['pose_m'].split(',')[1]);      Y.append(y)\n",
    "            z = float(self.odom[i]['pose_m'].split(',')[-1][:-1]);Z.append(z)\n",
    "\n",
    "            vx = float(self.odom[i]['vel_m_sec'].split(',')[0][1:]);  Vx.append(vx)\n",
    "            vy = float(self.odom[i]['vel_m_sec'].split(',')[1]);      Vy.append(vy)\n",
    "            vz = float(self.odom[i]['vel_m_sec'].split(',')[-1][:-1]);Vz.append(vz)\n",
    "        self.poses = [X, Y, Z]\n",
    "        self.vels = [Vx, Vy, Vz]"
   ]
  },
  {
   "cell_type": "code",
   "execution_count": 6,
   "metadata": {},
   "outputs": [],
   "source": [
    "cars = []\n",
    "for odom_path, dets_path in zip(odom_file_paths, dets_file_paths):\n",
    "    with open(odom_path) as json_odom:\n",
    "        odom_data = json.load(json_odom)\n",
    "    with open(dets_path) as json_dets:\n",
    "        dets_data = json.load(json_dets)\n",
    "    car = DynamicObject()\n",
    "    car.odom = odom_data\n",
    "    car.parse_odom()\n",
    "    car.dets = dets_data\n",
    "    \n",
    "    cars.append(car)"
   ]
  },
  {
   "cell_type": "code",
   "execution_count": 7,
   "metadata": {},
   "outputs": [
    {
     "data": {
      "text/plain": [
       "[{'frame_number': 1,\n",
       "  'pose_m': '(61.1, 343.6, -290.0)',\n",
       "  'vel_m_sec': '(-1.2, 0.0, 4.2)',\n",
       "  'acc_m_sec_sec': '(-0.6, 0.0, 2.8)',\n",
       "  'orient_quat': '(0.0, -0.1, 0.0, 1.0)',\n",
       "  'ang_vel_deg_sec': '(0.1, 0.4, 0.0)',\n",
       "  'ang_acc_deg_sec_sec': '(0.2, 2.9, -0.2)'},\n",
       " {'frame_number': 2,\n",
       "  'pose_m': '(60.5, 343.6, -287.6)',\n",
       "  'vel_m_sec': '(-1.4, 0.0, 5.4)',\n",
       "  'acc_m_sec_sec': '(-0.9, 0.0, 3.9)',\n",
       "  'orient_quat': '(0.0, -0.1, 0.0, 1.0)',\n",
       "  'ang_vel_deg_sec': '(0.2, 1.1, 0.2)',\n",
       "  'ang_acc_deg_sec_sec': '(0.7, 1.2, 0.6)'}]"
      ]
     },
     "execution_count": 7,
     "metadata": {},
     "output_type": "execute_result"
    }
   ],
   "source": [
    "cars[0].odom[:2]"
   ]
  },
  {
   "cell_type": "code",
   "execution_count": 8,
   "metadata": {},
   "outputs": [
    {
     "data": {
      "text/plain": [
       "[{'frame_number': 1,\n",
       "  'tags': 'TrafficCar, TrafficCar, TrafficCar, TrafficCar, TrafficCar',\n",
       "  'poses_m': '(61.4, 341.6, -291.0), (74.9, 341.6, -255.0), (66.4, 341.6, -310.9), (72.3, 341.6, -334.7), (49.7, 341.6, -247.0)',\n",
       "  'orients_quat': '(0.0, -0.1, 0.0, 1.0), (0.0, -0.8, 0.0, 0.6), (0.0, -0.1, 0.0, 1.0), (0.0, -0.1, 0.0, 1.0), (0.0, -0.1, 0.0, 1.0)',\n",
       "  'bbox_sizes_m': '(2.3, 1.9, 6.0), (2.3, 1.9, 6.0), (2.3, 1.9, 6.0), (2.3, 1.9, 6.0), (2.3, 1.9, 6.0)'},\n",
       " {'frame_number': 2,\n",
       "  'tags': 'TrafficCar, TrafficCar, TrafficCar, TrafficCar, TrafficCar',\n",
       "  'poses_m': '(60.8, 341.6, -288.6), (72.5, 341.6, -255.6), (65.8, 341.6, -308.5), (72.1, 341.6, -334.0), (49.6, 341.6, -246.4)',\n",
       "  'orients_quat': '(0.0, -0.1, 0.0, 1.0), (0.0, -0.8, 0.0, 0.6), (0.0, -0.1, 0.0, 1.0), (0.0, -0.1, 0.0, 1.0), (0.0, -0.1, 0.0, 1.0)',\n",
       "  'bbox_sizes_m': '(2.3, 1.9, 6.0), (2.3, 1.9, 6.0), (2.3, 1.9, 6.0), (2.3, 1.9, 6.0), (2.3, 1.9, 6.0)'}]"
      ]
     },
     "execution_count": 8,
     "metadata": {},
     "output_type": "execute_result"
    }
   ],
   "source": [
    "cars[0].dets[:2]"
   ]
  },
  {
   "cell_type": "code",
   "execution_count": 9,
   "metadata": {},
   "outputs": [
    {
     "name": "stdout",
     "output_type": "stream",
     "text": [
      "Total amount of dynamic objects in the scene:  2\n"
     ]
    }
   ],
   "source": [
    "print('Total amount of dynamic objects in the scene: ', len(cars))"
   ]
  },
  {
   "cell_type": "markdown",
   "metadata": {},
   "source": [
    "### Plot results"
   ]
  },
  {
   "cell_type": "markdown",
   "metadata": {},
   "source": [
    "Take into account that Unity has the following rigid body coordinate system,\n",
    "[reference](https://docs.nvidia.com/isaac/isaac/doc/simulation/unity3d.html#coordinates):\n",
    "- X - right\n",
    "- Y - up\n",
    "- Z - forward"
   ]
  },
  {
   "cell_type": "code",
   "execution_count": 10,
   "metadata": {},
   "outputs": [
    {
     "data": {
      "image/png": "[encoded data removed]",
      "text/plain": [
       "<Figure size 720x720 with 1 Axes>"
      ]
     },
     "metadata": {
      "needs_background": "light"
     },
     "output_type": "display_data"
    }
   ],
   "source": [
    "plt.figure(figsize=(10,10))\n",
    "plt.title('Dynamic objects trajectories on XZ-plane')\n",
    "plt.grid()\n",
    "plt.xlabel('X, [m]')\n",
    "plt.ylabel('Z, [m]')\n",
    "\n",
    "for car in cars:\n",
    "    X = car.poses[0]; Z = car.poses[2]\n",
    "    plt.plot(X,Z, 'x')\n",
    "    \n",
    "plt.show();"
   ]
  },
  {
   "cell_type": "code",
   "execution_count": 11,
   "metadata": {},
   "outputs": [
    {
     "data": {
      "image/png": "[encoded data removed]",
      "text/plain": [
       "<Figure size 720x360 with 1 Axes>"
      ]
     },
     "metadata": {
      "needs_background": "light"
     },
     "output_type": "display_data"
    },
    {
     "data": {
      "image/png": "[encoded data removed]",
      "text/plain": [
       "<Figure size 720x360 with 1 Axes>"
      ]
     },
     "metadata": {
      "needs_background": "light"
     },
     "output_type": "display_data"
    }
   ],
   "source": [
    "for car in cars:\n",
    "    plt.figure(figsize=(10,5))\n",
    "    plt.title('Horizontal velocities')\n",
    "    Vx = car.vels[0]; Vz = car.vels[2]\n",
    "    plt.plot(Vx, label='V_x, [m/sec]')\n",
    "    plt.plot(Vz, label='V_z, [m/sec]')\n",
    "    plt.legend()\n",
    "    plt.grid()\n",
    "    plt.ylim([-15, 15]);"
   ]
  },
  {
   "cell_type": "markdown",
   "metadata": {},
   "source": [
    "## Create formated dataset"
   ]
  },
  {
   "cell_type": "code",
   "execution_count": 13,
   "metadata": {},
   "outputs": [],
   "source": [
    "import os\n",
    "import cv2"
   ]
  },
  {
   "cell_type": "code",
   "execution_count": 9,
   "metadata": {},
   "outputs": [],
   "source": [
    "object_names = [\n",
    "    'Car1(Clone)-(-335458)',\n",
    "    'Car1(Clone)-(-346378)'\n",
    "]"
   ]
  },
  {
   "cell_type": "code",
   "execution_count": 65,
   "metadata": {},
   "outputs": [],
   "source": [
    "class MulticamDataset:\n",
    "    \n",
    "    def __init__(self, data_path, object_names):\n",
    "        files = os.listdir(data_path)\n",
    "        self.image_files = []\n",
    "        for file in files:\n",
    "            if file.endswith('.png'):\n",
    "                self.image_files.append(os.path.join(data_path, file))\n",
    "\n",
    "        self.odom_files =[]; self.dets_files =[]\n",
    "        for name in object_names:\n",
    "            odom_filename = 'odometry_{}.json'.format(name)\n",
    "            odom_file = os.path.join(data_path, odom_filename)\n",
    "            self.odom_files.append(odom_file)\n",
    "\n",
    "            dets_filename = 'detections_{}.json'.format(name)\n",
    "            dets_file = os.path.join(data_path, dets_filename)\n",
    "            self.dets_files.append(dets_file)\n",
    "        \n",
    "        self.odoms = [self.parse_odom(file) for file in self.odom_files]\n",
    "        self.dets = [self.parse_dets(file) for file in self.dets_files]\n",
    "        \n",
    "        # parameters\n",
    "        self.fov = {'horizontal': 70., 'vertical': 40.} # camera FOV, degrees\n",
    "        self.R_lookup = 50.0 # [m]\n",
    "        \n",
    "    def parse_odom(self, odom_file):\n",
    "        # check if odometry file exists\n",
    "        assert os.path.isfile(odom_file)\n",
    "        \n",
    "        with open(odom_file) as json_data:\n",
    "            odom_raw = json.load(json_data)\n",
    "        odom = odom_raw\n",
    "        for i in range(len(odom_raw)):\n",
    "            pose = np.array( odom_raw[i]['pose_m'][1:-1].split(',') ).astype(np.float)\n",
    "            odom[i]['pose_m'] = pose\n",
    "\n",
    "            vel  = np.array( odom_raw[i]['vel_m_sec'][1:-1].split(',') ).astype(np.float)\n",
    "            odom[i]['vel_m_sec'] = vel\n",
    "\n",
    "            acc  = np.array( odom_raw[i]['acc_m_sec_sec'][1:-1].split(',') ).astype(np.float)\n",
    "            odom[i]['acc_m_sec_sec'] = acc\n",
    "\n",
    "            orient_quat  = np.array( odom_raw[i]['orient_quat'][1:-1].split(',') ).astype(np.float)\n",
    "            odom[i]['orient_quat'] = orient_quat\n",
    "\n",
    "            ang_vel_deg_sec  = np.array( odom_raw[i]['ang_vel_deg_sec'][1:-1].split(',') ).astype(np.float)\n",
    "            odom[i]['ang_vel_deg_sec'] = ang_vel_deg_sec\n",
    "\n",
    "            ang_acc_deg_sec_sec  = np.array( odom_raw[i]['ang_acc_deg_sec_sec'][1:-1].split(',') ).astype(np.float)\n",
    "            odom[i]['ang_acc_deg_sec_sec'] = ang_acc_deg_sec_sec\n",
    "        return odom\n",
    "    \n",
    "    def parse_dets(self, dets_file):\n",
    "        # check if detections file exists\n",
    "        assert os.path.isfile(dets_file)\n",
    "        \n",
    "        with open(dets_file) as json_data:\n",
    "            dets_raw = json.load(json_data)\n",
    "        dets = dets_raw\n",
    "        for i in range(len(dets_raw)):\n",
    "            tags1 = dets_raw[i]['tags'].split(', ')\n",
    "            dets[i]['tags'] = tags1\n",
    "\n",
    "            poses1 = dets_raw[i]['poses_m'][1:-1].split('), (')\n",
    "            poses1 = [np.array(p.split(',')).astype(np.float) for p in poses1]\n",
    "            dets[i]['poses_m'] = poses1\n",
    "\n",
    "            bbox_sizes1 = dets_raw[i]['bbox_sizes_m'][1:-1].split('), (')\n",
    "            bbox_sizes1 = [np.array(p.split(',')).astype(np.float) for p in bbox_sizes1]\n",
    "            dets[i]['bbox_sizes_m'] = bbox_sizes1\n",
    "\n",
    "            orients_quat1 = dets_raw[i]['orients_quat'][1:-1].split('), (')\n",
    "            orients_quat1 = [np.array(p.split(',')).astype(np.float) for p in orients_quat1]\n",
    "            dets[i]['orients_quat'] = orients_quat1\n",
    "        return dets\n",
    "    \n",
    "    def __getitem__(self, i):\n",
    "        assert len(self.image_files) > 0\n",
    "        # read image\n",
    "        image = cv2.imread(self.image_files[0][:-10]+str(i+1)+'_img.png')\n",
    "        image = cv2.cvtColor(image, cv2.COLOR_BGR2RGB)\n",
    "        \n",
    "        output = None\n",
    "        return image, output\n",
    "    \n",
    "    def __len__(self):\n",
    "        return len(self.image_files)"
   ]
  },
  {
   "cell_type": "code",
   "execution_count": 66,
   "metadata": {},
   "outputs": [],
   "source": [
    "data_path = '../dataset/multicam/'\n",
    "dataset = MulticamDataset(data_path, object_names)"
   ]
  }
 ],
 "metadata": {
  "kernelspec": {
   "display_name": "Python 3",
   "language": "python",
   "name": "python3"
  },
  "language_info": {
   "codemirror_mode": {
    "name": "ipython",
    "version": 3
   },
   "file_extension": ".py",
   "mimetype": "text/x-python",
   "name": "python",
   "nbconvert_exporter": "python",
   "pygments_lexer": "ipython3",
   "version": "3.6.10"
  }
 },
 "nbformat": 4,
 "nbformat_minor": 4
}
